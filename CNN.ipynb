{
 "cells": [
  {
   "cell_type": "code",
   "execution_count": 1,
   "id": "13ef033a-6558-4b0f-97f5-3d8fd3450da7",
   "metadata": {},
   "outputs": [],
   "source": [
    "import tensorflow as tf\n",
    "import keras\n",
    "import numpy as np\n",
    "\n",
    "from tensorflow.keras import layers \n",
    "\n",
    "# Evaluation library\n",
    "from sklearn.metrics import confusion_matrix, classification_report, accuracy_score\n",
    "from sklearn.model_selection import GridSearchCV\n",
    "\n",
    "import matplotlib.pyplot as plt\n",
    "\n",
    "from keras.models import Sequential\n",
    "from tensorflow.keras.layers import Dense, Activation, Dropout\n",
    "from keras.datasets import mnist\n",
    "from tensorflow.keras.utils import to_categorical  ### \n",
    "from scikeras.wrappers import KerasClassifier"
   ]
  },
  {
   "cell_type": "code",
   "execution_count": 2,
   "id": "e4e5c60e-05c3-4cda-820b-81d057321b41",
   "metadata": {},
   "outputs": [],
   "source": [
    "(x_train,y_train), (x_test,y_test)=tf.keras.datasets.mnist.load_data()"
   ]
  },
  {
   "cell_type": "code",
   "execution_count": 3,
   "id": "14a86589-d279-41eb-b6f3-3677b3657614",
   "metadata": {},
   "outputs": [
    {
     "data": {
      "text/plain": [
       "(60000, 28, 28)"
      ]
     },
     "execution_count": 3,
     "metadata": {},
     "output_type": "execute_result"
    }
   ],
   "source": [
    "x_train.shape"
   ]
  },
  {
   "cell_type": "code",
   "execution_count": 4,
   "id": "2d8e7fbb-2097-4a97-964a-0c454836f491",
   "metadata": {},
   "outputs": [
    {
     "data": {
      "text/plain": [
       "(10000, 28, 28)"
      ]
     },
     "execution_count": 4,
     "metadata": {},
     "output_type": "execute_result"
    }
   ],
   "source": [
    "x_test.shape"
   ]
  },
  {
   "cell_type": "code",
   "execution_count": 5,
   "id": "eee21fac-823a-45f0-a802-70335bfd9f0a",
   "metadata": {},
   "outputs": [],
   "source": [
    "# flattening the input\n",
    "x_train.reshape(x_train.shape[0], 28, 28, 1)\n",
    "x_test.reshape(x_test.shape[0], 28, 28, 1)\n",
    "\n",
    "#input shape\n",
    "\n",
    "input_shape = (28, 28, 1) ### 28 row, 28 col, 1 channel"
   ]
  },
  {
   "cell_type": "code",
   "execution_count": 6,
   "id": "08686ebc-225f-458a-a3cc-722cb428d06b",
   "metadata": {},
   "outputs": [],
   "source": [
    "\n",
    "x_train = x_train.astype('float32')\n",
    "x_test = x_test.astype('float32')"
   ]
  },
  {
   "cell_type": "code",
   "execution_count": 7,
   "id": "265897b1-32fc-4152-9056-6d73c7481145",
   "metadata": {},
   "outputs": [],
   "source": [
    "x_train /= 256\n",
    "x_test /= 256"
   ]
  },
  {
   "cell_type": "code",
   "execution_count": 8,
   "id": "8441acf3-f436-4952-b947-59bce5379056",
   "metadata": {},
   "outputs": [
    {
     "name": "stderr",
     "output_type": "stream",
     "text": [
      "/opt/anaconda3/envs/venvaiml/lib/python3.10/site-packages/keras/src/layers/convolutional/base_conv.py:107: UserWarning: Do not pass an `input_shape`/`input_dim` argument to a layer. When using Sequential models, prefer using an `Input(shape)` object as the first layer in the model instead.\n",
      "  super().__init__(activity_regularizer=activity_regularizer, **kwargs)\n"
     ]
    }
   ],
   "source": [
    "from keras.models import Sequential\n",
    "from tensorflow.keras.layers import Dense, Conv2D, MaxPooling2D, Flatten, Activation, Dropout\n",
    "\n",
    "model = Sequential()\n",
    "model.add(Conv2D(28, kernel_size=(3,3), input_shape=input_shape) ) ## 28-filters (channel depth, filter's shape 3X3\n",
    "model.add(MaxPooling2D(pool_size=(2,2) ))\n",
    "model.add(Flatten())\n",
    "model.add(Dense(128, activation=tf.nn.relu )) ## 128- neurons, activation function\n",
    "model.add(Dropout(0.2))  ### Remove the unimportant neurons to reduce the overfitting and underfitting\n",
    "model.add(Dense(10, activation=tf.nn.softmax )) ## 10- no of classes"
   ]
  },
  {
   "cell_type": "markdown",
   "id": "030863a4-ea4c-4a4d-8725-78fb31f10409",
   "metadata": {},
   "source": []
  },
  {
   "cell_type": "code",
   "execution_count": 9,
   "id": "0fc24227-c850-4546-b8e9-bfefdee57e32",
   "metadata": {},
   "outputs": [
    {
     "name": "stdout",
     "output_type": "stream",
     "text": [
      "Epoch 1/10\n",
      "\u001b[1m1875/1875\u001b[0m \u001b[32m━━━━━━━━━━━━━━━━━━━━\u001b[0m\u001b[37m\u001b[0m \u001b[1m7s\u001b[0m 4ms/step - accuracy: 0.8851 - loss: 0.3801 - val_accuracy: 0.9756 - val_loss: 0.0809\n",
      "Epoch 2/10\n",
      "\u001b[1m1875/1875\u001b[0m \u001b[32m━━━━━━━━━━━━━━━━━━━━\u001b[0m\u001b[37m\u001b[0m \u001b[1m7s\u001b[0m 4ms/step - accuracy: 0.9726 - loss: 0.0918 - val_accuracy: 0.9806 - val_loss: 0.0630\n",
      "Epoch 3/10\n",
      "\u001b[1m1875/1875\u001b[0m \u001b[32m━━━━━━━━━━━━━━━━━━━━\u001b[0m\u001b[37m\u001b[0m \u001b[1m7s\u001b[0m 4ms/step - accuracy: 0.9817 - loss: 0.0596 - val_accuracy: 0.9817 - val_loss: 0.0571\n",
      "Epoch 4/10\n",
      "\u001b[1m1875/1875\u001b[0m \u001b[32m━━━━━━━━━━━━━━━━━━━━\u001b[0m\u001b[37m\u001b[0m \u001b[1m7s\u001b[0m 4ms/step - accuracy: 0.9846 - loss: 0.0447 - val_accuracy: 0.9833 - val_loss: 0.0515\n",
      "Epoch 5/10\n",
      "\u001b[1m1875/1875\u001b[0m \u001b[32m━━━━━━━━━━━━━━━━━━━━\u001b[0m\u001b[37m\u001b[0m \u001b[1m7s\u001b[0m 4ms/step - accuracy: 0.9879 - loss: 0.0364 - val_accuracy: 0.9826 - val_loss: 0.0561\n",
      "Epoch 6/10\n",
      "\u001b[1m1875/1875\u001b[0m \u001b[32m━━━━━━━━━━━━━━━━━━━━\u001b[0m\u001b[37m\u001b[0m \u001b[1m7s\u001b[0m 4ms/step - accuracy: 0.9910 - loss: 0.0266 - val_accuracy: 0.9854 - val_loss: 0.0497\n",
      "Epoch 7/10\n",
      "\u001b[1m1875/1875\u001b[0m \u001b[32m━━━━━━━━━━━━━━━━━━━━\u001b[0m\u001b[37m\u001b[0m \u001b[1m7s\u001b[0m 4ms/step - accuracy: 0.9923 - loss: 0.0226 - val_accuracy: 0.9851 - val_loss: 0.0522\n",
      "Epoch 8/10\n",
      "\u001b[1m1875/1875\u001b[0m \u001b[32m━━━━━━━━━━━━━━━━━━━━\u001b[0m\u001b[37m\u001b[0m \u001b[1m8s\u001b[0m 4ms/step - accuracy: 0.9929 - loss: 0.0202 - val_accuracy: 0.9836 - val_loss: 0.0579\n",
      "Epoch 9/10\n",
      "\u001b[1m1875/1875\u001b[0m \u001b[32m━━━━━━━━━━━━━━━━━━━━\u001b[0m\u001b[37m\u001b[0m \u001b[1m8s\u001b[0m 4ms/step - accuracy: 0.9935 - loss: 0.0184 - val_accuracy: 0.9867 - val_loss: 0.0549\n",
      "Epoch 10/10\n",
      "\u001b[1m1875/1875\u001b[0m \u001b[32m━━━━━━━━━━━━━━━━━━━━\u001b[0m\u001b[37m\u001b[0m \u001b[1m8s\u001b[0m 4ms/step - accuracy: 0.9953 - loss: 0.0141 - val_accuracy: 0.9828 - val_loss: 0.0694\n"
     ]
    }
   ],
   "source": [
    "# Compile and train the model\n",
    "model.compile(optimizer='Adam',loss='sparse_categorical_crossentropy', metrics=['accuracy'])\n",
    "history = model.fit(x=x_train,y=y_train,epochs=10, validation_data=(x_test, y_test))\n"
   ]
  },
  {
   "cell_type": "code",
   "execution_count": 10,
   "id": "69cfbf5e-75b1-4008-bdca-5f546504c0e6",
   "metadata": {},
   "outputs": [
    {
     "name": "stdout",
     "output_type": "stream",
     "text": [
      "\u001b[1m313/313\u001b[0m \u001b[32m━━━━━━━━━━━━━━━━━━━━\u001b[0m\u001b[37m\u001b[0m \u001b[1m0s\u001b[0m 1ms/step - accuracy: 0.9800 - loss: 0.0807\n"
     ]
    },
    {
     "data": {
      "text/plain": [
       "[0.0693853572010994, 0.9828000068664551]"
      ]
     },
     "execution_count": 10,
     "metadata": {},
     "output_type": "execute_result"
    }
   ],
   "source": [
    "# Test the model using evaluate function, gives the loss and accuracy score...\n",
    "model.evaluate(x_test,y_test)"
   ]
  },
  {
   "cell_type": "code",
   "execution_count": 11,
   "id": "9a8850ff-de67-4dd2-bbf0-39898fef9c6c",
   "metadata": {},
   "outputs": [
    {
     "name": "stdout",
     "output_type": "stream",
     "text": [
      "\u001b[1m313/313\u001b[0m \u001b[32m━━━━━━━━━━━━━━━━━━━━\u001b[0m\u001b[37m\u001b[0m \u001b[1m0s\u001b[0m 1ms/step\n"
     ]
    }
   ],
   "source": [
    "y_pred=model.predict(x_test)"
   ]
  },
  {
   "cell_type": "code",
   "execution_count": 12,
   "id": "e164c372-5140-477e-8d0f-cd31f2994287",
   "metadata": {},
   "outputs": [
    {
     "data": {
      "text/plain": [
       "array([4.6501681e-15, 1.9254086e-11, 1.4272094e-14, 2.9985319e-09,\n",
       "       3.1027058e-15, 3.1119279e-15, 2.8160517e-22, 1.0000000e+00,\n",
       "       2.7531504e-13, 1.0000527e-09], dtype=float32)"
      ]
     },
     "execution_count": 12,
     "metadata": {},
     "output_type": "execute_result"
    }
   ],
   "source": [
    "y_pred[0]"
   ]
  },
  {
   "cell_type": "code",
   "execution_count": 13,
   "id": "e76664c8-26ee-4628-956f-e3429bfce65f",
   "metadata": {},
   "outputs": [],
   "source": [
    "y_predicts = np.argmax(y_pred,axis=1)"
   ]
  },
  {
   "cell_type": "code",
   "execution_count": 14,
   "id": "4b1dda94-d062-4ccc-9a21-758afae01676",
   "metadata": {},
   "outputs": [
    {
     "data": {
      "text/plain": [
       "array([7, 2, 1, ..., 4, 5, 6])"
      ]
     },
     "execution_count": 14,
     "metadata": {},
     "output_type": "execute_result"
    }
   ],
   "source": [
    "y_predicts"
   ]
  },
  {
   "cell_type": "code",
   "execution_count": 16,
   "id": "f7a10ab0-67e4-40a8-8e29-263adea7aced",
   "metadata": {},
   "outputs": [
    {
     "data": {
      "text/plain": [
       "array([7, 2, 1, ..., 4, 5, 6], dtype=uint8)"
      ]
     },
     "execution_count": 16,
     "metadata": {},
     "output_type": "execute_result"
    }
   ],
   "source": [
    "y_test"
   ]
  },
  {
   "cell_type": "code",
   "execution_count": 18,
   "id": "feac09e1-5506-4918-8a68-86085d0af4c3",
   "metadata": {},
   "outputs": [
    {
     "data": {
      "text/plain": [
       "array([[ 970,    1,    1,    0,    0,    0,    2,    2,    0,    4],\n",
       "       [   0, 1127,    2,    1,    0,    1,    1,    2,    1,    0],\n",
       "       [   1,    1, 1002,    7,    1,    0,    1,   14,    3,    2],\n",
       "       [   0,    0,    1,  996,    0,   12,    0,    1,    0,    0],\n",
       "       [   1,    0,    0,    0,  956,    0,    4,    1,    3,   17],\n",
       "       [   0,    0,    0,    2,    0,  888,    2,    0,    0,    0],\n",
       "       [   3,    2,    0,    1,    3,    6,  939,    0,    4,    0],\n",
       "       [   1,    0,    5,    0,    1,    0,    0, 1016,    0,    5],\n",
       "       [   4,    0,    0,    8,    0,    8,    1,    4,  944,    5],\n",
       "       [   0,    3,    1,    1,    4,    5,    1,    3,    1,  990]])"
      ]
     },
     "execution_count": 18,
     "metadata": {},
     "output_type": "execute_result"
    }
   ],
   "source": [
    "con_mat = confusion_matrix(y_test, y_predicts)\n",
    "con_mat"
   ]
  },
  {
   "cell_type": "code",
   "execution_count": 19,
   "id": "66837b21-0dc4-4528-bd2d-bc0ba8a209de",
   "metadata": {},
   "outputs": [
    {
     "name": "stdout",
     "output_type": "stream",
     "text": [
      "              precision    recall  f1-score   support\n",
      "\n",
      "           0       0.99      0.99      0.99       980\n",
      "           1       0.99      0.99      0.99      1135\n",
      "           2       0.99      0.97      0.98      1032\n",
      "           3       0.98      0.99      0.98      1010\n",
      "           4       0.99      0.97      0.98       982\n",
      "           5       0.97      1.00      0.98       892\n",
      "           6       0.99      0.98      0.98       958\n",
      "           7       0.97      0.99      0.98      1028\n",
      "           8       0.99      0.97      0.98       974\n",
      "           9       0.97      0.98      0.97      1009\n",
      "\n",
      "    accuracy                           0.98     10000\n",
      "   macro avg       0.98      0.98      0.98     10000\n",
      "weighted avg       0.98      0.98      0.98     10000\n",
      "\n"
     ]
    }
   ],
   "source": [
    "clf_report = classification_report(y_test,y_predicts)\n",
    "print (clf_report)"
   ]
  },
  {
   "cell_type": "code",
   "execution_count": 20,
   "id": "e2a82583-4b83-49dc-993a-76c20062ad8a",
   "metadata": {},
   "outputs": [
    {
     "name": "stdout",
     "output_type": "stream",
     "text": [
      "dict_keys(['accuracy', 'loss', 'val_accuracy', 'val_loss'])\n"
     ]
    }
   ],
   "source": [
    "print (history.history.keys())"
   ]
  },
  {
   "cell_type": "code",
   "execution_count": 21,
   "id": "e9848568-99c7-4499-86f9-6e3d69a42944",
   "metadata": {},
   "outputs": [
    {
     "data": {
      "image/png": "[encoded data removed]",
      "text/plain": [
       "<Figure size 640x480 with 1 Axes>"
      ]
     },
     "metadata": {},
     "output_type": "display_data"
    }
   ],
   "source": [
    "# Summarize history of accuracy\n",
    "\n",
    "\n",
    "plt.plot(history.history['accuracy'],'s:r')\n",
    "plt.plot(history.history['val_accuracy'],'*:r')\n",
    "plt.title('Model Accuracy')\n",
    "plt.xlabel('Epoch')\n",
    "plt.ylabel('accuracy')\n",
    "plt.legend(['train', 'test'], loc='best')\n",
    "plt.show()"
   ]
  },
  {
   "cell_type": "code",
   "execution_count": 22,
   "id": "e5b6af09-213f-42e2-9d46-28b256a27a63",
   "metadata": {},
   "outputs": [
    {
     "data": {
      "image/png": "[encoded data removed]",
      "text/plain": [
       "<Figure size 640x480 with 1 Axes>"
      ]
     },
     "metadata": {},
     "output_type": "display_data"
    }
   ],
   "source": [
    "### # Summarize history of  MOdel Loss\n",
    "\n",
    "plt.plot(history.history['loss'],'s:r')\n",
    "plt.plot(history.history['val_loss'],'*:r')\n",
    "plt.title('Model Loss')\n",
    "plt.xlabel('Epoch')\n",
    "plt.ylabel('Loss')\n",
    "plt.legend(['train', 'test'], loc='best')\n",
    "plt.show()"
   ]
  },
  {
   "cell_type": "code",
   "execution_count": null,
   "id": "666ddbca-11c9-4dcd-b77d-ed2603cd5550",
   "metadata": {},
   "outputs": [],
   "source": []
  }
 ],
 "metadata": {
  "kernelspec": {
   "display_name": "Python 3 (ipykernel)",
   "language": "python",
   "name": "python3"
  },
  "language_info": {
   "codemirror_mode": {
    "name": "ipython",
    "version": 3
   },
   "file_extension": ".py",
   "mimetype": "text/x-python",
   "name": "python",
   "nbconvert_exporter": "python",
   "pygments_lexer": "ipython3",
   "version": "3.10.14"
  }
 },
 "nbformat": 4,
 "nbformat_minor": 5
}
