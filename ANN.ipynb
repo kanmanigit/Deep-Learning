{
 "cells": [
  {
   "cell_type": "code",
   "execution_count": 31,
   "id": "d665495d-6627-45ea-a6df-08276d4e53ef",
   "metadata": {},
   "outputs": [],
   "source": [
    "# Basic library\n",
    "import pandas as pd\n",
    "import numpy as np\n",
    "\n",
    "# visualization library\n",
    "import matplotlib.pyplot as plt\n",
    "import seaborn as sns\n",
    "#import pydot\n",
    "\n",
    "# Evaluation library\n",
    "from sklearn.metrics import confusion_matrix, classification_report, accuracy_score\n",
    "from sklearn.model_selection import GridSearchCV\n",
    "\n",
    "# DeepLearning libraries\n",
    "\n",
    "#!pip install tensorflow==2.18.0\n",
    "#!pip install scikeras\n",
    "\n",
    "import tensorflow as tf\n",
    "from tensorflow.keras import layers\n",
    "\n",
    "import keras\n",
    "from keras.models import Sequential\n",
    "from tensorflow.keras.layers import Dense, Activation, Dropout\n",
    "from keras.datasets import mnist\n",
    "from tensorflow.keras.utils import to_categorical\n",
    "from scikeras.wrappers import KerasClassifier"
   ]
  },
  {
   "cell_type": "code",
   "execution_count": 32,
   "id": "a221e3aa-89f0-4186-aa7a-006b7432f205",
   "metadata": {},
   "outputs": [],
   "source": [
    "#tf.keras.version()\n",
    "#!pip show tensorflow\n"
   ]
  },
  {
   "cell_type": "code",
   "execution_count": 33,
   "id": "13625a37-36f2-473d-a91b-6633a66447c7",
   "metadata": {},
   "outputs": [],
   "source": [
    "# Load the Digit MNIST dataset\n",
    "(X_train_digit, y_train_digit), (X_test_digit, y_test_digit)=mnist.load_data()"
   ]
  },
  {
   "cell_type": "code",
   "execution_count": 34,
   "id": "2cb481f9-5d0a-44a6-9eb9-76c641214f4b",
   "metadata": {},
   "outputs": [
    {
     "data": {
      "image/png": "[encoded data removed]",
      "text/plain": [
       "<Figure size 1000x1000 with 15 Axes>"
      ]
     },
     "metadata": {},
     "output_type": "display_data"
    }
   ],
   "source": [
    "#Names of numbers in the dataset in order\n",
    "\n",
    "col_names = ['Zero', 'One', 'Two', 'Three', 'Four', 'Five', 'Six', 'Seven', 'Eight', 'Nine' ]\n",
    "\n",
    "# Visualization the digits\n",
    "plt.figure(figsize=(10,10))\n",
    "for i in range(15):\n",
    "    plt.subplot(5,5,i+1)\n",
    "    plt.xticks([])\n",
    "    plt.yticks([])\n",
    "    plt.imshow(X_train_digit[i], cmap='gray')\n",
    "    plt.xlabel(col_names[y_train_digit[i]])\n",
    "plt.show()"
   ]
  },
  {
   "cell_type": "code",
   "execution_count": 35,
   "id": "800be59b-6e8a-4c04-8a2e-4463b7455d72",
   "metadata": {},
   "outputs": [
    {
     "data": {
      "text/plain": [
       "(60000, 28, 28)"
      ]
     },
     "execution_count": 35,
     "metadata": {},
     "output_type": "execute_result"
    }
   ],
   "source": [
    "# preprocessing the input\n",
    "X_train_digit.shape"
   ]
  },
  {
   "cell_type": "code",
   "execution_count": 36,
   "id": "9108cf02-9c17-4d07-8627-544ab28d5933",
   "metadata": {},
   "outputs": [
    {
     "data": {
      "text/plain": [
       "(10000, 28, 28)"
      ]
     },
     "execution_count": 36,
     "metadata": {},
     "output_type": "execute_result"
    }
   ],
   "source": [
    "X_test_digit.shape"
   ]
  },
  {
   "cell_type": "code",
   "execution_count": 37,
   "id": "16a9fedd-5ad4-4d99-a8ae-7c87c2831f79",
   "metadata": {},
   "outputs": [],
   "source": [
    "## preprocessing the inputs as 2D inputs...\n",
    "# Flatten the rows and columns of each image, since ANN accepts 2D input\n",
    "X_train_digit = X_train_digit.reshape(60000, 784)\n",
    "X_test_digit= X_test_digit.reshape(10000, 784)"
   ]
  },
  {
   "cell_type": "code",
   "execution_count": 38,
   "id": "1f1edf4f-7f2f-4eb6-ab70-e328bfbb55f3",
   "metadata": {},
   "outputs": [
    {
     "data": {
      "text/plain": [
       "(60000, 784)"
      ]
     },
     "execution_count": 38,
     "metadata": {},
     "output_type": "execute_result"
    }
   ],
   "source": [
    "X_train_digit.shape"
   ]
  },
  {
   "cell_type": "code",
   "execution_count": 47,
   "id": "6e971464-f929-40dd-a010-18e150051c23",
   "metadata": {},
   "outputs": [
    {
     "data": {
      "text/plain": [
       "(10000,)"
      ]
     },
     "execution_count": 47,
     "metadata": {},
     "output_type": "execute_result"
    }
   ],
   "source": [
    "# Preprocesing the output\n",
    "y_test_digit.shape\n"
   ]
  },
  {
   "cell_type": "code",
   "execution_count": 51,
   "id": "af511504-6265-45a1-8267-3663a10271f5",
   "metadata": {},
   "outputs": [
    {
     "data": {
      "text/plain": [
       "array([7, 2, 1, ..., 4, 5, 6], dtype=uint8)"
      ]
     },
     "execution_count": 51,
     "metadata": {},
     "output_type": "execute_result"
    }
   ],
   "source": [
    "y_test_digit"
   ]
  },
  {
   "cell_type": "code",
   "execution_count": 52,
   "id": "fa7e1a97-3dd2-4372-ac80-6214b1cdb928",
   "metadata": {},
   "outputs": [],
   "source": [
    "## Encoding Digit MNIST Labels  ### one hot encoding\n",
    "y_train_digit = to_categorical(y_train_digit, num_classes=10)  # converting integers to binary classs matrix\n",
    "\n",
    "y_test_digit = to_categorical(y_test_digit, num_classes=10)"
   ]
  },
  {
   "cell_type": "code",
   "execution_count": 55,
   "id": "d4faed82-2612-4e91-bb4e-f1bf44535d43",
   "metadata": {},
   "outputs": [
    {
     "data": {
      "text/plain": [
       "array([0., 0., 0., 0., 1., 0., 0., 0., 0., 0.])"
      ]
     },
     "execution_count": 55,
     "metadata": {},
     "output_type": "execute_result"
    }
   ],
   "source": [
    "y_train_digit[2]"
   ]
  },
  {
   "cell_type": "markdown",
   "id": "8dfa5b73-d094-490c-8afd-987317113f43",
   "metadata": {},
   "source": [
    "###There by the input to ANN should be 2D and output should be in one hot encoding..."
   ]
  },
  {
   "cell_type": "code",
   "execution_count": 12,
   "id": "53a6a3e7-a733-4cd0-b9ec-0edb4cd84264",
   "metadata": {},
   "outputs": [
    {
     "name": "stderr",
     "output_type": "stream",
     "text": [
      "/opt/anaconda3/envs/venvaiml/lib/python3.10/site-packages/keras/src/layers/core/dense.py:87: UserWarning: Do not pass an `input_shape`/`input_dim` argument to a layer. When using Sequential models, prefer using an `Input(shape)` object as the first layer in the model instead.\n",
      "  super().__init__(activity_regularizer=activity_regularizer, **kwargs)\n"
     ]
    }
   ],
   "source": [
    "## Creating base neural network\n",
    "\n",
    "model = keras.Sequential([\n",
    "    layers.Dense(256, activation='relu', input_shape=(784,)), ## inputlayer -> hidden layer(1) ...no of neurans, activation function, input \n",
    "    #layer.dropout(0.3)\n",
    "    #layers.BatchNormalization(),\n",
    "    layers.Dense(64, activation = 'relu'), ## next hidden layer (2) ## no of neurans, activation function\n",
    "    #layer.dropout(0.3)\n",
    "    #layers.BatchNormalization(),\n",
    "    layers.Dense(64, activation= 'relu'), ## next hiden layer (3), no of neurans, activation function\n",
    "    #layer.dropout(0.3)\n",
    "    #layers.BatchNormalization(),\n",
    "    layers.Dense(10, activation = 'sigmoid'), ## output layer\n",
    "])\n"
   ]
  },
  {
   "cell_type": "code",
   "execution_count": 13,
   "id": "5b61e511-1b58-4125-89b4-ee958f245ebd",
   "metadata": {},
   "outputs": [
    {
     "data": {
      "text/html": [
       "<pre style=\"white-space:pre;overflow-x:auto;line-height:normal;font-family:Menlo,'DejaVu Sans Mono',consolas,'Courier New',monospace\"><span style=\"font-weight: bold\">Model: \"sequential\"</span>\n",
       "</pre>\n"
      ],
      "text/plain": [
       "\u001b[1mModel: \"sequential\"\u001b[0m\n"
      ]
     },
     "metadata": {},
     "output_type": "display_data"
    },
    {
     "data": {
      "text/html": [
       "<pre style=\"white-space:pre;overflow-x:auto;line-height:normal;font-family:Menlo,'DejaVu Sans Mono',consolas,'Courier New',monospace\">┏━━━━━━━━━━━━━━━━━━━━━━━━━━━━━━━━━┳━━━━━━━━━━━━━━━━━━━━━━━━┳━━━━━━━━━━━━━━━┓\n",
       "┃<span style=\"font-weight: bold\"> Layer (type)                    </span>┃<span style=\"font-weight: bold\"> Output Shape           </span>┃<span style=\"font-weight: bold\">       Param # </span>┃\n",
       "┡━━━━━━━━━━━━━━━━━━━━━━━━━━━━━━━━━╇━━━━━━━━━━━━━━━━━━━━━━━━╇━━━━━━━━━━━━━━━┩\n",
       "│ dense (<span style=\"color: #0087ff; text-decoration-color: #0087ff\">Dense</span>)                   │ (<span style=\"color: #00d7ff; text-decoration-color: #00d7ff\">None</span>, <span style=\"color: #00af00; text-decoration-color: #00af00\">256</span>)            │       <span style=\"color: #00af00; text-decoration-color: #00af00\">200,960</span> │\n",
       "├─────────────────────────────────┼────────────────────────┼───────────────┤\n",
       "│ dense_1 (<span style=\"color: #0087ff; text-decoration-color: #0087ff\">Dense</span>)                 │ (<span style=\"color: #00d7ff; text-decoration-color: #00d7ff\">None</span>, <span style=\"color: #00af00; text-decoration-color: #00af00\">64</span>)             │        <span style=\"color: #00af00; text-decoration-color: #00af00\">16,448</span> │\n",
       "├─────────────────────────────────┼────────────────────────┼───────────────┤\n",
       "│ dense_2 (<span style=\"color: #0087ff; text-decoration-color: #0087ff\">Dense</span>)                 │ (<span style=\"color: #00d7ff; text-decoration-color: #00d7ff\">None</span>, <span style=\"color: #00af00; text-decoration-color: #00af00\">64</span>)             │         <span style=\"color: #00af00; text-decoration-color: #00af00\">4,160</span> │\n",
       "├─────────────────────────────────┼────────────────────────┼───────────────┤\n",
       "│ dense_3 (<span style=\"color: #0087ff; text-decoration-color: #0087ff\">Dense</span>)                 │ (<span style=\"color: #00d7ff; text-decoration-color: #00d7ff\">None</span>, <span style=\"color: #00af00; text-decoration-color: #00af00\">10</span>)             │           <span style=\"color: #00af00; text-decoration-color: #00af00\">650</span> │\n",
       "└─────────────────────────────────┴────────────────────────┴───────────────┘\n",
       "</pre>\n"
      ],
      "text/plain": [
       "┏━━━━━━━━━━━━━━━━━━━━━━━━━━━━━━━━━┳━━━━━━━━━━━━━━━━━━━━━━━━┳━━━━━━━━━━━━━━━┓\n",
       "┃\u001b[1m \u001b[0m\u001b[1mLayer (type)                   \u001b[0m\u001b[1m \u001b[0m┃\u001b[1m \u001b[0m\u001b[1mOutput Shape          \u001b[0m\u001b[1m \u001b[0m┃\u001b[1m \u001b[0m\u001b[1m      Param #\u001b[0m\u001b[1m \u001b[0m┃\n",
       "┡━━━━━━━━━━━━━━━━━━━━━━━━━━━━━━━━━╇━━━━━━━━━━━━━━━━━━━━━━━━╇━━━━━━━━━━━━━━━┩\n",
       "│ dense (\u001b[38;5;33mDense\u001b[0m)                   │ (\u001b[38;5;45mNone\u001b[0m, \u001b[38;5;34m256\u001b[0m)            │       \u001b[38;5;34m200,960\u001b[0m │\n",
       "├─────────────────────────────────┼────────────────────────┼───────────────┤\n",
       "│ dense_1 (\u001b[38;5;33mDense\u001b[0m)                 │ (\u001b[38;5;45mNone\u001b[0m, \u001b[38;5;34m64\u001b[0m)             │        \u001b[38;5;34m16,448\u001b[0m │\n",
       "├─────────────────────────────────┼────────────────────────┼───────────────┤\n",
       "│ dense_2 (\u001b[38;5;33mDense\u001b[0m)                 │ (\u001b[38;5;45mNone\u001b[0m, \u001b[38;5;34m64\u001b[0m)             │         \u001b[38;5;34m4,160\u001b[0m │\n",
       "├─────────────────────────────────┼────────────────────────┼───────────────┤\n",
       "│ dense_3 (\u001b[38;5;33mDense\u001b[0m)                 │ (\u001b[38;5;45mNone\u001b[0m, \u001b[38;5;34m10\u001b[0m)             │           \u001b[38;5;34m650\u001b[0m │\n",
       "└─────────────────────────────────┴────────────────────────┴───────────────┘\n"
      ]
     },
     "metadata": {},
     "output_type": "display_data"
    },
    {
     "data": {
      "text/html": [
       "<pre style=\"white-space:pre;overflow-x:auto;line-height:normal;font-family:Menlo,'DejaVu Sans Mono',consolas,'Courier New',monospace\"><span style=\"font-weight: bold\"> Total params: </span><span style=\"color: #00af00; text-decoration-color: #00af00\">222,218</span> (868.04 KB)\n",
       "</pre>\n"
      ],
      "text/plain": [
       "\u001b[1m Total params: \u001b[0m\u001b[38;5;34m222,218\u001b[0m (868.04 KB)\n"
      ]
     },
     "metadata": {},
     "output_type": "display_data"
    },
    {
     "data": {
      "text/html": [
       "<pre style=\"white-space:pre;overflow-x:auto;line-height:normal;font-family:Menlo,'DejaVu Sans Mono',consolas,'Courier New',monospace\"><span style=\"font-weight: bold\"> Trainable params: </span><span style=\"color: #00af00; text-decoration-color: #00af00\">222,218</span> (868.04 KB)\n",
       "</pre>\n"
      ],
      "text/plain": [
       "\u001b[1m Trainable params: \u001b[0m\u001b[38;5;34m222,218\u001b[0m (868.04 KB)\n"
      ]
     },
     "metadata": {},
     "output_type": "display_data"
    },
    {
     "data": {
      "text/html": [
       "<pre style=\"white-space:pre;overflow-x:auto;line-height:normal;font-family:Menlo,'DejaVu Sans Mono',consolas,'Courier New',monospace\"><span style=\"font-weight: bold\"> Non-trainable params: </span><span style=\"color: #00af00; text-decoration-color: #00af00\">0</span> (0.00 B)\n",
       "</pre>\n"
      ],
      "text/plain": [
       "\u001b[1m Non-trainable params: \u001b[0m\u001b[38;5;34m0\u001b[0m (0.00 B)\n"
      ]
     },
     "metadata": {},
     "output_type": "display_data"
    }
   ],
   "source": [
    "# Param number = ouput_channel_number *(input_channel-number +1)\n",
    "# 256*(784+1) = 200,960\n",
    "# 64*(256+1) = 16,448\n",
    "# 64*(64+1) = 4160\n",
    "# 10*(64+1) =650\n",
    "\n",
    "model.summary()"
   ]
  },
  {
   "cell_type": "code",
   "execution_count": 14,
   "id": "fc4b33bb-fc03-4ae8-85a4-d67920d64ed0",
   "metadata": {},
   "outputs": [],
   "source": [
    "# Compiling the model\n",
    "model.compile(loss = 'categorical_crossentropy',\n",
    "              optimizer = 'adam',\n",
    "              metrics = ['accuracy'])"
   ]
  },
  {
   "cell_type": "code",
   "execution_count": 15,
   "id": "08b48644-2f1a-4487-88d9-34ad75235c65",
   "metadata": {},
   "outputs": [
    {
     "name": "stdout",
     "output_type": "stream",
     "text": [
      "Epoch 1/10\n",
      "\u001b[1m600/600\u001b[0m \u001b[32m━━━━━━━━━━━━━━━━━━━━\u001b[0m\u001b[37m\u001b[0m \u001b[1m1s\u001b[0m 1ms/step - accuracy: 0.7595 - loss: 4.9885 - val_accuracy: 0.9201 - val_loss: 0.3415\n",
      "Epoch 2/10\n",
      "\u001b[1m600/600\u001b[0m \u001b[32m━━━━━━━━━━━━━━━━━━━━\u001b[0m\u001b[37m\u001b[0m \u001b[1m1s\u001b[0m 1ms/step - accuracy: 0.9339 - loss: 0.2719 - val_accuracy: 0.9458 - val_loss: 0.2196\n",
      "Epoch 3/10\n",
      "\u001b[1m600/600\u001b[0m \u001b[32m━━━━━━━━━━━━━━━━━━━━\u001b[0m\u001b[37m\u001b[0m \u001b[1m1s\u001b[0m 1ms/step - accuracy: 0.9564 - loss: 0.1540 - val_accuracy: 0.9542 - val_loss: 0.1755\n",
      "Epoch 4/10\n",
      "\u001b[1m600/600\u001b[0m \u001b[32m━━━━━━━━━━━━━━━━━━━━\u001b[0m\u001b[37m\u001b[0m \u001b[1m1s\u001b[0m 1ms/step - accuracy: 0.9685 - loss: 0.1096 - val_accuracy: 0.9567 - val_loss: 0.1860\n",
      "Epoch 5/10\n",
      "\u001b[1m600/600\u001b[0m \u001b[32m━━━━━━━━━━━━━━━━━━━━\u001b[0m\u001b[37m\u001b[0m \u001b[1m1s\u001b[0m 1ms/step - accuracy: 0.9718 - loss: 0.0944 - val_accuracy: 0.9580 - val_loss: 0.1668\n",
      "Epoch 6/10\n",
      "\u001b[1m600/600\u001b[0m \u001b[32m━━━━━━━━━━━━━━━━━━━━\u001b[0m\u001b[37m\u001b[0m \u001b[1m1s\u001b[0m 1ms/step - accuracy: 0.9732 - loss: 0.0877 - val_accuracy: 0.9624 - val_loss: 0.1476\n",
      "Epoch 7/10\n",
      "\u001b[1m600/600\u001b[0m \u001b[32m━━━━━━━━━━━━━━━━━━━━\u001b[0m\u001b[37m\u001b[0m \u001b[1m1s\u001b[0m 1ms/step - accuracy: 0.9772 - loss: 0.0750 - val_accuracy: 0.9620 - val_loss: 0.1611\n",
      "Epoch 8/10\n",
      "\u001b[1m600/600\u001b[0m \u001b[32m━━━━━━━━━━━━━━━━━━━━\u001b[0m\u001b[37m\u001b[0m \u001b[1m1s\u001b[0m 1ms/step - accuracy: 0.9812 - loss: 0.0621 - val_accuracy: 0.9662 - val_loss: 0.1289\n",
      "Epoch 9/10\n",
      "\u001b[1m600/600\u001b[0m \u001b[32m━━━━━━━━━━━━━━━━━━━━\u001b[0m\u001b[37m\u001b[0m \u001b[1m1s\u001b[0m 1ms/step - accuracy: 0.9798 - loss: 0.0671 - val_accuracy: 0.9666 - val_loss: 0.1449\n",
      "Epoch 10/10\n",
      "\u001b[1m600/600\u001b[0m \u001b[32m━━━━━━━━━━━━━━━━━━━━\u001b[0m\u001b[37m\u001b[0m \u001b[1m1s\u001b[0m 1ms/step - accuracy: 0.9823 - loss: 0.0567 - val_accuracy: 0.9713 - val_loss: 0.1313\n"
     ]
    }
   ],
   "source": [
    "history = model.fit(X_train_digit, y_train_digit, batch_size=100, epochs=10, validation_data=(X_test_digit, y_test_digit) )"
   ]
  },
  {
   "cell_type": "code",
   "execution_count": 16,
   "id": "c30cfd29-07e0-4952-a0e2-191f72ba6ae6",
   "metadata": {},
   "outputs": [
    {
     "name": "stdout",
     "output_type": "stream",
     "text": [
      "\u001b[1m313/313\u001b[0m \u001b[32m━━━━━━━━━━━━━━━━━━━━\u001b[0m\u001b[37m\u001b[0m \u001b[1m0s\u001b[0m 365us/step\n"
     ]
    }
   ],
   "source": [
    "#Predicting the labels-Digit\n",
    "y_pred = model.predict(X_test_digit)"
   ]
  },
  {
   "cell_type": "code",
   "execution_count": 17,
   "id": "6cfe9c56-6a5b-4872-86fa-f3dadc263da0",
   "metadata": {},
   "outputs": [
    {
     "data": {
      "text/plain": [
       "array([2.2717495e-09, 1.8300749e-01, 9.9996918e-01, 9.9992782e-01,\n",
       "       1.3166260e-02, 9.9602288e-01, 2.0373278e-23, 1.0000000e+00,\n",
       "       5.7009281e-08, 9.9998772e-01], dtype=float32)"
      ]
     },
     "execution_count": 17,
     "metadata": {},
     "output_type": "execute_result"
    }
   ],
   "source": [
    "y_pred[0]\n"
   ]
  },
  {
   "cell_type": "code",
   "execution_count": 18,
   "id": "2f0f8274-84e4-4b3d-9d09-5cf8207d542e",
   "metadata": {},
   "outputs": [],
   "source": [
    "y_predicts = np.argmax(y_pred, axis=1)"
   ]
  },
  {
   "cell_type": "code",
   "execution_count": 19,
   "id": "70578951-8025-4d8b-8008-b0271d06ee63",
   "metadata": {},
   "outputs": [
    {
     "data": {
      "text/plain": [
       "array([7, 2, 1, ..., 1, 5, 6])"
      ]
     },
     "execution_count": 19,
     "metadata": {},
     "output_type": "execute_result"
    }
   ],
   "source": [
    "y_predicts"
   ]
  },
  {
   "cell_type": "code",
   "execution_count": 20,
   "id": "07bf2765-a47d-4cf1-9a31-2b74c0b1f1d1",
   "metadata": {},
   "outputs": [
    {
     "data": {
      "text/plain": [
       "array([[0., 0., 0., ..., 1., 0., 0.],\n",
       "       [0., 0., 1., ..., 0., 0., 0.],\n",
       "       [0., 1., 0., ..., 0., 0., 0.],\n",
       "       ...,\n",
       "       [0., 0., 0., ..., 0., 0., 0.],\n",
       "       [0., 0., 0., ..., 0., 0., 0.],\n",
       "       [0., 0., 0., ..., 0., 0., 0.]])"
      ]
     },
     "execution_count": 20,
     "metadata": {},
     "output_type": "execute_result"
    }
   ],
   "source": [
    "y_test_digit"
   ]
  },
  {
   "cell_type": "code",
   "execution_count": 21,
   "id": "b34d8a46-cead-4e99-a507-092c9754ea44",
   "metadata": {},
   "outputs": [],
   "source": [
    "y_test_digit_eval = np.argmax(y_test_digit, axis=1)  "
   ]
  },
  {
   "cell_type": "code",
   "execution_count": 22,
   "id": "3feeee08-98bb-4254-bcd8-192a36550063",
   "metadata": {},
   "outputs": [
    {
     "data": {
      "text/plain": [
       "array([7, 2, 1, ..., 4, 5, 6])"
      ]
     },
     "execution_count": 22,
     "metadata": {},
     "output_type": "execute_result"
    }
   ],
   "source": [
    "y_test_digit_eval"
   ]
  },
  {
   "cell_type": "code",
   "execution_count": 23,
   "id": "ed7f1706-f5fa-487f-8bcb-b5ab6a8d917e",
   "metadata": {},
   "outputs": [
    {
     "data": {
      "text/plain": [
       "array([[ 969,    0,    2,    0,    1,    1,    3,    0,    3,    1],\n",
       "       [   0, 1124,    3,    0,    0,    1,    2,    2,    3,    0],\n",
       "       [   6,    1, 1012,    2,    1,    0,    2,    1,    7,    0],\n",
       "       [ 364,  497,   29,  102,    0,    7,    0,    3,    8,    0],\n",
       "       [   5,   83,  126,    0,  757,    0,    3,    2,    3,    3],\n",
       "       [ 346,   34,    7,  161,   11,  326,    5,    0,    1,    1],\n",
       "       [  27,    4,   12,    0,   33,   59,  820,    0,    3,    0],\n",
       "       [   1,    5,  153,   34,    5,   31,    0,  786,    6,    7],\n",
       "       [  15,    3,    3,    6,    1,   11,    3,    3,  929,    0],\n",
       "       [ 626,    5,   18,   74,   81,   25,    0,   28,   21,  131]])"
      ]
     },
     "execution_count": 23,
     "metadata": {},
     "output_type": "execute_result"
    }
   ],
   "source": [
    "# Confusion matrix for Digit MNIST\n",
    "con_matrix = confusion_matrix( y_test_digit_eval , y_predicts)\n",
    "con_matrix"
   ]
  },
  {
   "cell_type": "code",
   "execution_count": 24,
   "id": "fa320a91-acc4-4931-98ec-086f830c6a29",
   "metadata": {},
   "outputs": [
    {
     "name": "stdout",
     "output_type": "stream",
     "text": [
      "              precision    recall  f1-score   support\n",
      "\n",
      "           0       0.41      0.99      0.58       980\n",
      "           1       0.64      0.99      0.78      1135\n",
      "           2       0.74      0.98      0.84      1032\n",
      "           3       0.27      0.10      0.15      1010\n",
      "           4       0.85      0.77      0.81       982\n",
      "           5       0.71      0.37      0.48       892\n",
      "           6       0.98      0.86      0.91       958\n",
      "           7       0.95      0.76      0.85      1028\n",
      "           8       0.94      0.95      0.95       974\n",
      "           9       0.92      0.13      0.23      1009\n",
      "\n",
      "    accuracy                           0.70     10000\n",
      "   macro avg       0.74      0.69      0.66     10000\n",
      "weighted avg       0.74      0.70      0.66     10000\n",
      "\n"
     ]
    }
   ],
   "source": [
    "from sklearn.metrics import classification_report\n",
    "\n",
    "print(classification_report(y_test_digit_eval, y_predicts))"
   ]
  },
  {
   "cell_type": "code",
   "execution_count": 25,
   "id": "a163fef8-5921-48b1-9126-f43e0c91a568",
   "metadata": {},
   "outputs": [
    {
     "name": "stdout",
     "output_type": "stream",
     "text": [
      "dict_keys(['accuracy', 'loss', 'val_accuracy', 'val_loss'])\n"
     ]
    }
   ],
   "source": [
    "print(history.history.keys())"
   ]
  },
  {
   "cell_type": "code",
   "execution_count": 28,
   "id": "70e13e79-8b9a-4c9b-9f74-7ee4174ef6cc",
   "metadata": {},
   "outputs": [
    {
     "data": {
      "image/png": "[encoded data removed]",
      "text/plain": [
       "<Figure size 640x480 with 1 Axes>"
      ]
     },
     "metadata": {},
     "output_type": "display_data"
    }
   ],
   "source": [
    "# Summarize history of accuracy\n",
    "\n",
    "\n",
    "plt.plot(history.history['accuracy'],'s:r')\n",
    "plt.plot(history.history['val_accuracy'],'*:r')\n",
    "plt.title('Model Accuracy')\n",
    "plt.xlabel('Epoch')\n",
    "plt.ylabel('accuracy')\n",
    "plt.legend(['train', 'test'], loc='best')\n",
    "plt.show()"
   ]
  },
  {
   "cell_type": "code",
   "execution_count": 27,
   "id": "c1132316-b311-41b3-bcad-72363b0f8eef",
   "metadata": {},
   "outputs": [
    {
     "data": {
      "image/png": "[encoded data removed]",
      "text/plain": [
       "<Figure size 640x480 with 1 Axes>"
      ]
     },
     "metadata": {},
     "output_type": "display_data"
    }
   ],
   "source": [
    "### # Summarize history of  MOdel Loss\n",
    "\n",
    "plt.plot(history.history['loss'],'s:r')\n",
    "plt.plot(history.history['val_loss'],'*:r')\n",
    "plt.title('Model Loss')\n",
    "plt.xlabel('Epoch')\n",
    "plt.ylabel('Loss')\n",
    "plt.legend(['train', 'test'], loc='best')\n",
    "plt.show()"
   ]
  },
  {
   "cell_type": "code",
   "execution_count": null,
   "id": "de9ccd59-5f27-4dec-ab18-a4da78a89a62",
   "metadata": {},
   "outputs": [],
   "source": []
  }
 ],
 "metadata": {
  "kernelspec": {
   "display_name": "Python 3 (ipykernel)",
   "language": "python",
   "name": "python3"
  },
  "language_info": {
   "codemirror_mode": {
    "name": "ipython",
    "version": 3
   },
   "file_extension": ".py",
   "mimetype": "text/x-python",
   "name": "python",
   "nbconvert_exporter": "python",
   "pygments_lexer": "ipython3",
   "version": "3.10.14"
  }
 },
 "nbformat": 4,
 "nbformat_minor": 5
}
